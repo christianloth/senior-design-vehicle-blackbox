{
 "cells": [
  {
   "cell_type": "code",
   "execution_count": 21,
   "metadata": {},
   "outputs": [],
   "source": [
    "import sys\n",
    "import pandas as pd\n",
    "import numpy as np\n",
    "import os\n",
    "import matplotlib.pyplot as plt\n",
    "import boto3\n",
    "import time\n",
    "import math\n",
    "import decimal\n",
    "import json\n",
    "from decimal import Decimal\n",
    "from boto3.dynamodb.conditions import Key, Attr\n",
    "from utilities import *\n",
    "from datetime import datetime"
   ]
  },
  {
   "cell_type": "code",
   "execution_count": 22,
   "metadata": {},
   "outputs": [],
   "source": [
    "def latest_change(filename):\n",
    "\n",
    "    reference_time = datetime.now().timestamp() - 60*60*24\n",
    "    f_name = \"Raspberry_Pi/Release_Code/CSVs/\" + filename\n",
    "    # print(os.path.getctime(f_name))\n",
    "    mtime = os.path.getmtime(f_name)\n",
    "    ctime = os.path.getctime(f_name)\n",
    "\n",
    "    if (mtime >= reference_time) | (ctime >= reference_time):\n",
    "        return f_name\n",
    "\n",
    "def get_latest_files(dir):\n",
    "    list_of_files = os.listdir(dir)\n",
    "    latest_files = []\n",
    "    for f in list_of_files:\n",
    "        latest_files.append(latest_change(f))\n",
    "    latest_files = [i for i in latest_files if i]\n",
    "    \n",
    "    return latest_files\n"
   ]
  },
  {
   "cell_type": "code",
   "execution_count": 30,
   "metadata": {},
   "outputs": [
    {
     "data": {
      "text/plain": [
       "[]"
      ]
     },
     "execution_count": 30,
     "metadata": {},
     "output_type": "execute_result"
    }
   ],
   "source": [
    "latest_files_csv = get_latest_files('Raspberry_Pi/Release_Code/CSVs/')\n",
    "# latest_files_vid = get_latest_files(\"video directory\")\n",
    "latest_files_csv\n"
   ]
  },
  {
   "cell_type": "code",
   "execution_count": 24,
   "metadata": {},
   "outputs": [
    {
     "name": "stdout",
     "output_type": "stream",
     "text": [
      "2022-03-24 18:08:20.240000-05:00\n",
      "vboxbucket\n"
     ]
    }
   ],
   "source": [
    "# accessing Amazon Dynamodb\n",
    "dynamodb = boto3.resource('dynamodb')\n",
    "\n",
    "# accessing Amazon S3 bucket\n",
    "bucket = boto3.resource('s3')\n",
    "\n",
    "# getting access to DataSummary table\n",
    "vehicle_data_table = dynamodb.Table('vehicle_data')\n",
    "\n",
    "# getting access to vboxbucket\n",
    "vboxbucket = bucket.Bucket('vboxbucket')\n",
    "\n",
    "print(vehicle_data_table.creation_date_time) # test if connected to the database\n",
    "print(vboxbucket.name) # test if connected to the s3 bucket"
   ]
  },
  {
   "cell_type": "code",
   "execution_count": 25,
   "metadata": {},
   "outputs": [],
   "source": [
    "# vboxbucket.upload_file('/Users/lidsu0106/Downloads/2022_04_13-07_33_59_PM.h264', '1.h264')"
   ]
  },
  {
   "cell_type": "code",
   "execution_count": 26,
   "metadata": {},
   "outputs": [],
   "source": [
    "# vboxbucket.upload_file('/Users/lidsu0106/Downloads/2022_04_13-08_08_38_PM.h264', '2.h264')\n",
    "\n"
   ]
  },
  {
   "cell_type": "code",
   "execution_count": 27,
   "metadata": {},
   "outputs": [],
   "source": [
    "# vboxbucket.upload_file('/Users/lidsu0106/Downloads/2022_04_13-08_33_57_PM.h264', '3.h264')\n"
   ]
  },
  {
   "cell_type": "code",
   "execution_count": 28,
   "metadata": {},
   "outputs": [],
   "source": [
    "# vboxbucket.upload_file('/Users/lidsu0106/Downloads/2022_04_17-07_57_44_PM-002.h264', '4.h264')\n",
    "# vboxbucket.upload_file('/Users/lidsu0106/Downloads/2022_04_13-08_46_50_PM-003.h264', '5.h264')"
   ]
  },
  {
   "cell_type": "code",
   "execution_count": 29,
   "metadata": {},
   "outputs": [
    {
     "name": "stdout",
     "output_type": "stream",
     "text": [
      "15\n"
     ]
    }
   ],
   "source": [
    "list_of_files_csv = os.listdir('Raspberry_Pi/Release_Code/CSVs/')\n",
    "uploaded_file_count = len(list_of_files_csv) - len(latest_files_csv)\n",
    "print(uploaded_file_count)\n",
    "\n",
    "for fname in latest_files_csv:\n",
    "    raw_data = pd.read_csv(fname)\n",
    "    raw_data['trip'] = uploaded_file_count\n",
    "    \n",
    "    uploaded_file_count += 1\n",
    "    \n",
    "    raw_data = raw_data.dropna()\n",
    "    raw_data = raw_data[raw_data['Longitude'] != 0]\n",
    "    for i in range(raw_data.trip.size):\n",
    "        if i > 0:\n",
    "            delta_acc_x =  Decimal(str(raw_data.AX[i].item() - raw_data.AX[i-1].item()))\n",
    "            delta_acc_y = Decimal(str(raw_data.AY[i].item() - raw_data.AY[i-1].item()))\n",
    "            delta_acc_z = Decimal(str(raw_data.AZ[i].item() - raw_data.AZ[i-1].item()))\n",
    "        else: \n",
    "            delta_acc_x =  0\n",
    "            delta_acc_y = 0\n",
    "            delta_acc_z = 0\n",
    "\n",
    "        vehicle_data_table.put_item(\n",
    "            ##### Change the table name here if necessary #####\n",
    "            TableName = \"vehicle_data\",\n",
    "            Item = {\n",
    "                \"trip\": Decimal(str(raw_data.trip[i].item())),\n",
    "                \"tm\": Decimal(str(raw_data.Time[i].item())),\n",
    "                'rpm': Decimal(str(raw_data.RPM[i].item())),\n",
    "                'speed': Decimal(str(raw_data.MPH[i].item())),\n",
    "                'throttle_pos': Decimal(str(raw_data.THROTTLE_POS[i].item())),\n",
    "                'acc_x': Decimal(str(raw_data.AX[i].item())),\n",
    "                'acc_y': Decimal(str(raw_data.AY[i].item())),\n",
    "                'acc_z': Decimal(str(raw_data.AZ[i].item())),\n",
    "                'gyro_x': Decimal(str(raw_data.GX[i].item())),\n",
    "                'gyro_y': Decimal(str(raw_data.GY[i].item())),\n",
    "                'gyro_z': Decimal(str(raw_data.GZ[i].item())),\n",
    "                'delta_acc_x': delta_acc_x,\n",
    "                'delta_acc_y': delta_acc_y, \n",
    "                'delta_acc_z': delta_acc_z, \n",
    "                'long': Decimal(str(raw_data.Longitude[i].item())), \n",
    "                'lat': Decimal(str(raw_data.Latitude[i].item())),\n",
    "            }\n",
    "        )\n",
    "\n"
   ]
  }
 ],
 "metadata": {
  "interpreter": {
   "hash": "a665b5d41d17b532ea9890333293a1b812fa0b73c9c25c950b3cedf1bebd0438"
  },
  "kernelspec": {
   "display_name": "Python 3.9.8 64-bit",
   "language": "python",
   "name": "python3"
  },
  "language_info": {
   "codemirror_mode": {
    "name": "ipython",
    "version": 3
   },
   "file_extension": ".py",
   "mimetype": "text/x-python",
   "name": "python",
   "nbconvert_exporter": "python",
   "pygments_lexer": "ipython3",
   "version": "3.9.8"
  },
  "orig_nbformat": 4
 },
 "nbformat": 4,
 "nbformat_minor": 2
}
