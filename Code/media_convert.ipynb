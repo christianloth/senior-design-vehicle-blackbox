{
 "cells": [
  {
   "cell_type": "code",
   "execution_count": 2,
   "metadata": {},
   "outputs": [],
   "source": [
    "import sys\n",
    "import pandas as pd\n",
    "import numpy as np\n",
    "import os\n",
    "import matplotlib.pyplot as plt\n",
    "import boto3\n",
    "import time\n",
    "import math\n",
    "import decimal\n",
    "import json\n",
    "from decimal import Decimal\n",
    "from boto3.dynamodb.conditions import Key, Attr\n",
    "from utilities import *\n",
    "from datetime import datetime"
   ]
  },
  {
   "cell_type": "code",
   "execution_count": 32,
   "metadata": {},
   "outputs": [
    {
     "data": {
      "text/plain": [
       "[]"
      ]
     },
     "execution_count": 32,
     "metadata": {},
     "output_type": "execute_result"
    }
   ],
   "source": [
    "# accessing Amazon S3 bucket\n",
    "bucket = boto3.resource('s3')\n",
    "h264_list = []\n",
    "mp4_list = []\n",
    "vboxbucket = bucket.Bucket('vboxbucket')\n",
    "for i in vboxbucket.objects.all():\n",
    "    if i.key.endswith('h264'):\n",
    "        h264_list.append(i.key.replace(\".h264\", \"\"))\n",
    "    if i.key.endswith('mp4'):\n",
    "        mp4_list.append(i.key.replace(\".mp4\", \"\"))\n",
    "\n",
    "new_vids = list(set(h264_list) - set(mp4_list))\n"
   ]
  },
  {
   "cell_type": "code",
   "execution_count": 33,
   "metadata": {},
   "outputs": [],
   "source": [
    "converter = boto3.client('mediaconvert')\n",
    "\n"
   ]
  }
 ],
 "metadata": {
  "interpreter": {
   "hash": "a665b5d41d17b532ea9890333293a1b812fa0b73c9c25c950b3cedf1bebd0438"
  },
  "kernelspec": {
   "display_name": "Python 3.9.8 64-bit",
   "language": "python",
   "name": "python3"
  },
  "language_info": {
   "codemirror_mode": {
    "name": "ipython",
    "version": 3
   },
   "file_extension": ".py",
   "mimetype": "text/x-python",
   "name": "python",
   "nbconvert_exporter": "python",
   "pygments_lexer": "ipython3",
   "version": "3.9.8"
  },
  "orig_nbformat": 4
 },
 "nbformat": 4,
 "nbformat_minor": 2
}
