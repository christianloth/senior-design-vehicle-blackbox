{
 "cells": [
  {
   "cell_type": "code",
   "execution_count": 2,
   "metadata": {},
   "outputs": [
    {
     "data": {
      "text/html": [
       "<div>\n",
       "<style scoped>\n",
       "    .dataframe tbody tr th:only-of-type {\n",
       "        vertical-align: middle;\n",
       "    }\n",
       "\n",
       "    .dataframe tbody tr th {\n",
       "        vertical-align: top;\n",
       "    }\n",
       "\n",
       "    .dataframe thead th {\n",
       "        text-align: right;\n",
       "    }\n",
       "</style>\n",
       "<table border=\"1\" class=\"dataframe\">\n",
       "  <thead>\n",
       "    <tr style=\"text-align: right;\">\n",
       "      <th></th>\n",
       "      <th>Time</th>\n",
       "      <th>RPM</th>\n",
       "      <th>MPH</th>\n",
       "      <th>THROTTLE_POS</th>\n",
       "      <th>AX</th>\n",
       "      <th>AY</th>\n",
       "      <th>AZ</th>\n",
       "      <th>GX</th>\n",
       "      <th>GY</th>\n",
       "      <th>GZ</th>\n",
       "      <th>Latitude</th>\n",
       "      <th>Longitude</th>\n",
       "    </tr>\n",
       "  </thead>\n",
       "  <tbody>\n",
       "    <tr>\n",
       "      <th>0</th>\n",
       "      <td>1649896450</td>\n",
       "      <td>0.00</td>\n",
       "      <td>0.000000</td>\n",
       "      <td>0.000000</td>\n",
       "      <td>0.000000</td>\n",
       "      <td>0.000000</td>\n",
       "      <td>0.000000</td>\n",
       "      <td>0.000000</td>\n",
       "      <td>0.000000</td>\n",
       "      <td>0.000000</td>\n",
       "      <td>0.000000</td>\n",
       "      <td>0.000000</td>\n",
       "    </tr>\n",
       "    <tr>\n",
       "      <th>1</th>\n",
       "      <td>1649896451</td>\n",
       "      <td>1170.00</td>\n",
       "      <td>6.213712</td>\n",
       "      <td>15.686275</td>\n",
       "      <td>1.139640</td>\n",
       "      <td>-1.379060</td>\n",
       "      <td>10.194511</td>\n",
       "      <td>-0.062885</td>\n",
       "      <td>-0.156413</td>\n",
       "      <td>0.358392</td>\n",
       "      <td>30.597762</td>\n",
       "      <td>-96.338408</td>\n",
       "    </tr>\n",
       "    <tr>\n",
       "      <th>2</th>\n",
       "      <td>1649896452</td>\n",
       "      <td>1442.00</td>\n",
       "      <td>7.456454</td>\n",
       "      <td>17.254902</td>\n",
       "      <td>2.236184</td>\n",
       "      <td>-1.446098</td>\n",
       "      <td>9.404424</td>\n",
       "      <td>0.095394</td>\n",
       "      <td>-0.102855</td>\n",
       "      <td>0.382907</td>\n",
       "      <td>30.597792</td>\n",
       "      <td>-96.338445</td>\n",
       "    </tr>\n",
       "    <tr>\n",
       "      <th>3</th>\n",
       "      <td>1649896453</td>\n",
       "      <td>1447.50</td>\n",
       "      <td>8.699197</td>\n",
       "      <td>21.176471</td>\n",
       "      <td>3.083732</td>\n",
       "      <td>-1.953669</td>\n",
       "      <td>10.141838</td>\n",
       "      <td>0.072478</td>\n",
       "      <td>-0.069014</td>\n",
       "      <td>0.366119</td>\n",
       "      <td>30.597835</td>\n",
       "      <td>-96.338487</td>\n",
       "    </tr>\n",
       "    <tr>\n",
       "      <th>4</th>\n",
       "      <td>1649896454</td>\n",
       "      <td>1523.75</td>\n",
       "      <td>11.806053</td>\n",
       "      <td>21.568627</td>\n",
       "      <td>2.279280</td>\n",
       "      <td>-2.154781</td>\n",
       "      <td>9.279926</td>\n",
       "      <td>0.013323</td>\n",
       "      <td>-0.078873</td>\n",
       "      <td>0.212637</td>\n",
       "      <td>30.597880</td>\n",
       "      <td>-96.338480</td>\n",
       "    </tr>\n",
       "  </tbody>\n",
       "</table>\n",
       "</div>"
      ],
      "text/plain": [
       "         Time      RPM        MPH  THROTTLE_POS        AX        AY  \\\n",
       "0  1649896450     0.00   0.000000      0.000000  0.000000  0.000000   \n",
       "1  1649896451  1170.00   6.213712     15.686275  1.139640 -1.379060   \n",
       "2  1649896452  1442.00   7.456454     17.254902  2.236184 -1.446098   \n",
       "3  1649896453  1447.50   8.699197     21.176471  3.083732 -1.953669   \n",
       "4  1649896454  1523.75  11.806053     21.568627  2.279280 -2.154781   \n",
       "\n",
       "          AZ        GX        GY        GZ   Latitude  Longitude  \n",
       "0   0.000000  0.000000  0.000000  0.000000   0.000000   0.000000  \n",
       "1  10.194511 -0.062885 -0.156413  0.358392  30.597762 -96.338408  \n",
       "2   9.404424  0.095394 -0.102855  0.382907  30.597792 -96.338445  \n",
       "3  10.141838  0.072478 -0.069014  0.366119  30.597835 -96.338487  \n",
       "4   9.279926  0.013323 -0.078873  0.212637  30.597880 -96.338480  "
      ]
     },
     "execution_count": 2,
     "metadata": {},
     "output_type": "execute_result"
    }
   ],
   "source": [
    "import csv\n",
    "import pandas as pd\n",
    "import numpy as np\n",
    "file = pd.read_csv(\"test1_true.csv\")\n",
    "file.head()\n"
   ]
  },
  {
   "cell_type": "code",
   "execution_count": 3,
   "metadata": {},
   "outputs": [
    {
     "name": "stdout",
     "output_type": "stream",
     "text": [
      "Amount of total trip that identified major difference in speeds per timestamp: 21.75141242937853\n"
     ]
    }
   ],
   "source": [
    "trip_time, col_count = file.shape\n",
    "diff_list = []\n",
    "wreck_points = 0\n",
    "sharp_steer = 0\n",
    "for x, y in zip(file['MPH'][0::], file['MPH'][1::]):\n",
    "    if (abs(y-x) > 2):\n",
    "        wreck_points += 1\n",
    "    diff_list.append(y-x)\n",
    "\n",
    "# printing difference list\n",
    "count_length = trip_time - 1\n",
    "percent_wreck = (wreck_points/count_length)*100\n",
    "#print (\"difference list: \", str(diff_list))\n",
    "print(\"Amount of total trip that identified major difference in speeds per timestamp:\",percent_wreck)\n",
    "\n",
    "\n"
   ]
  },
  {
   "cell_type": "code",
   "execution_count": 4,
   "metadata": {},
   "outputs": [
    {
     "name": "stdout",
     "output_type": "stream",
     "text": [
      "[6.835083114610674, 15.534279805933352, 8.450648214427742, 12.42742384474668, 24.730573451045895, 30.198639942734438, 32.43557623478883, 32.43557623478883, 25.35194464328323, 6.586534637715741]\n",
      "Maximum Speed Observed: 48.46695299451206\n"
     ]
    }
   ],
   "source": [
    "## average speed per cluster of 5\n",
    "sum_list = []\n",
    "for i in range(0,count_length, 5):\n",
    "   sum_list.append(sum(file['MPH'][i:i+5])/5)\n",
    "print(sum_list[0:10])\n",
    "\n",
    "## maximum speed observed \n",
    "print(\"Maximum Speed Observed:\",max(file['MPH']))\n",
    "    "
   ]
  },
  {
   "cell_type": "code",
   "execution_count": 47,
   "metadata": {},
   "outputs": [
    {
     "name": "stdout",
     "output_type": "stream",
     "text": [
      "Percent of sudden brake instances indentified: 1.977401129943503\n"
     ]
    }
   ],
   "source": [
    "## identify sudden brakes \n",
    "#according to research, deceleration of < 15 fps is considered safe\n",
    "jerk_break_count = 0\n",
    "for x, y in zip(file['MPH'][0::], file['MPH'][1::]):\n",
    "    x = x * 1.467\n",
    "    y = y * 1.467 \n",
    "    if ((y-x) < 0 and abs(y-x) > 7): #use 7 bc there was 0 occurence of >15\n",
    "        jerk_break_count +=1\n",
    "print(\"Percent of sudden brake instances indentified:\",(jerk_break_count/count_length)*100)"
   ]
  },
  {
   "cell_type": "code",
   "execution_count": 53,
   "metadata": {},
   "outputs": [
    {
     "data": {
      "image/png": "[encoded data removed]",
      "text/plain": [
       "<Figure size 432x288 with 1 Axes>"
      ]
     },
     "metadata": {
      "needs_background": "light"
     },
     "output_type": "display_data"
    }
   ],
   "source": [
    "import matplotlib.pyplot as plt\n",
    "import random\n",
    "\n",
    "data = file['MPH']  #create a list of 10 random numbers\n",
    "\n",
    "plt.plot(data, color='magenta', marker='o',mfc='pink' ) #plot the data\n",
    "plt.xticks(range(0,count_length, 1)) #set the tick frequency on x-axis\n",
    "\n",
    "plt.ylabel('MPH') #set the label for y axis\n",
    "plt.xlabel('time(s)') #set the label for x-axis\n",
    "plt.title(\"Overall Trip Image\") #set the title of the graph\n",
    "plt.show() #display the graph"
   ]
  },
  {
   "cell_type": "code",
   "execution_count": 11,
   "metadata": {},
   "outputs": [
    {
     "name": "stdout",
     "output_type": "stream",
     "text": [
      "Percent of trip with inconsistent speeding:  33.62\n"
     ]
    }
   ],
   "source": [
    "## is the driver displaying stable speeding?\n",
    "unstable_count = 0\n",
    "for x, y in zip(file['MPH'][0::], file['MPH'][1::]):\n",
    "    if (abs(y-x)>1.5):\n",
    "        unstable_count +=1\n",
    "print(\"Percent of trip with inconsistent speeding: \",round((unstable_count/count_length)*100,2))\n"
   ]
  },
  {
   "cell_type": "code",
   "execution_count": 5,
   "metadata": {},
   "outputs": [
    {
     "name": "stdout",
     "output_type": "stream",
     "text": [
      "Number of stops made during this trip:  5\n"
     ]
    }
   ],
   "source": [
    "## Number of stops made during trips\n",
    "stop_count = 0\n",
    "for x, y in zip(file['MPH'][0::], file['MPH'][1::]):\n",
    "    if (y == 0 and abs(y-x) > 0.6):\n",
    "        stop_count +=1\n",
    "print(\"Number of stops made during this trip: \", round(stop_count,2))"
   ]
  },
  {
   "cell_type": "code",
   "execution_count": 70,
   "metadata": {},
   "outputs": [],
   "source": [
    "## add traffic condition and speed_limit from GMAPsAPI"
   ]
  },
  {
   "cell_type": "code",
   "execution_count": null,
   "metadata": {},
   "outputs": [],
   "source": [
    "##final report here\n",
    "## how do we wanna do this?"
   ]
  }
 ],
 "metadata": {
  "kernelspec": {
   "display_name": "Python 3",
   "language": "python",
   "name": "python3"
  },
  "language_info": {
   "codemirror_mode": {
    "name": "ipython",
    "version": 3
   },
   "file_extension": ".py",
   "mimetype": "text/x-python",
   "name": "python",
   "nbconvert_exporter": "python",
   "pygments_lexer": "ipython3",
   "version": "3.8.5"
  }
 },
 "nbformat": 4,
 "nbformat_minor": 4
}
